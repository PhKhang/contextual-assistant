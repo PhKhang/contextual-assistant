{
 "cells": [
  {
   "cell_type": "markdown",
   "id": "395c1a44",
   "metadata": {},
   "source": [
    "# Scrape"
   ]
  },
  {
   "cell_type": "code",
   "execution_count": null,
   "id": "c6a52cfe",
   "metadata": {},
   "outputs": [],
   "source": [
    "%pip install -q requests markdownify"
   ]
  },
  {
   "cell_type": "code",
   "execution_count": 1,
   "id": "ed92d1b6",
   "metadata": {},
   "outputs": [],
   "source": [
    "import requests\n",
    "from markdownify import markdownify as md\n",
    "import os\n",
    "from urllib.parse import urlparse\n",
    "\n",
    "BASE_URL = \"https://support.optisigns.com/api/v2/help_center/articles.json\"\n",
    "OUTPUT_DIR = \"articles_md\"\n",
    "\n",
    "os.makedirs(OUTPUT_DIR, exist_ok=True)\n",
    "\n",
    "def slugify(url):\n",
    "    parsed = urlparse(url)\n",
    "    slug = parsed.path.rstrip('/').split('/')[-1]\n",
    "    return slug.replace('-', '_')\n",
    "\n",
    "def fetch_articles():\n",
    "    articles = []\n",
    "    url = BASE_URL\n",
    "    while url:\n",
    "        resp = requests.get(url)\n",
    "        data = resp.json()\n",
    "        articles.extend(data.get(\"articles\", []))\n",
    "        url = data.get(\"next_page\")  # pagination\n",
    "    return articles\n",
    "\n",
    "def save_article_as_md(article):\n",
    "    html_content = article.get(\"body\", \"\")\n",
    "    markdown_content = md(html_content)\n",
    "\n",
    "    slug = slugify(article.get(\"html_url\", f\"article_{article['id']}\"))\n",
    "    filename = os.path.join(OUTPUT_DIR, f\"{slug}.md\")\n",
    "    with open(filename, \"w\", encoding=\"utf-8\") as f:\n",
    "        f.write(f\"# {article.get('title')}\\n\\n\")\n",
    "        f.write(markdown_content)\n",
    "\n",
    "def scrape_all():\n",
    "    print(\"Fetching articles...\")\n",
    "    articles = fetch_articles()\n",
    "    print(f\"Total articles fetched: {len(articles)}\")\n",
    "\n",
    "    for article in articles:\n",
    "        save_article_as_md(article)\n",
    "\n",
    "    print(f\"Saved all Markdown files in '{OUTPUT_DIR}' folder.\")"
   ]
  },
  {
   "cell_type": "code",
   "execution_count": 2,
   "id": "5ecca58e",
   "metadata": {},
   "outputs": [
    {
     "name": "stdout",
     "output_type": "stream",
     "text": [
      "Fetching articles...\n",
      "Total articles fetched: 399\n",
      "Saved all Markdown files in 'articles_md' folder.\n"
     ]
    }
   ],
   "source": [
    "scrape_all()"
   ]
  },
  {
   "cell_type": "markdown",
   "id": "65765c7b",
   "metadata": {},
   "source": [
    "## Chunking"
   ]
  },
  {
   "cell_type": "code",
   "execution_count": 41,
   "id": "035e4595",
   "metadata": {},
   "outputs": [
    {
     "name": "stdout",
     "output_type": "stream",
     "text": [
      "Note: you may need to restart the kernel to use updated packages.\n"
     ]
    },
    {
     "name": "stderr",
     "output_type": "stream",
     "text": [
      "\n",
      "[notice] A new release of pip is available: 24.2 -> 25.1.1\n",
      "[notice] To update, run: python.exe -m pip install --upgrade pip\n"
     ]
    }
   ],
   "source": [
    "%pip install -q langchain"
   ]
  },
  {
   "cell_type": "code",
   "execution_count": 49,
   "id": "11c28934",
   "metadata": {},
   "outputs": [
    {
     "name": "stdout",
     "output_type": "stream",
     "text": [
      "Note: you may need to restart the kernel to use updated packages.\n"
     ]
    },
    {
     "name": "stderr",
     "output_type": "stream",
     "text": [
      "\n",
      "[notice] A new release of pip is available: 24.2 -> 25.1.1\n",
      "[notice] To update, run: python.exe -m pip install --upgrade pip\n"
     ]
    }
   ],
   "source": [
    "%pip install -q rich"
   ]
  },
  {
   "cell_type": "code",
   "execution_count": null,
   "id": "f90a67a7",
   "metadata": {},
   "outputs": [],
   "source": [
    "import os\n",
    "\n",
    "def get_files_in_directory(directory):\n",
    "    files = []\n",
    "    for filename in os.listdir(directory):\n",
    "        if filename.endswith(\".md\") or filename.endswith(\".json\"):\n",
    "            files.append(os.path.join(directory, filename))\n",
    "    return files\n"
   ]
  },
  {
   "cell_type": "code",
   "execution_count": 89,
   "id": "ca2feb3f",
   "metadata": {},
   "outputs": [],
   "source": [
    "import json\n",
    "from langchain.text_splitter import MarkdownTextSplitter\n",
    "import rich\n",
    "import builtins\n",
    "\n",
    "md_files = get_files_in_directory(OUTPUT_DIR)\n",
    "\n",
    "JSONL_DIR = \"jsonl_files\"\n",
    "os.makedirs(JSONL_DIR, exist_ok=True)\n",
    "\n",
    "for file in md_files:\n",
    "    with open(file, \"r\", encoding=\"utf-8\") as f:\n",
    "        content = f.read()\n",
    "        metadata = {\n",
    "            \"file_name\": os.path.basename(file),\n",
    "            \"file_path\": file,\n",
    "            \"chunk_index\": 0\n",
    "        }\n",
    "        # print(metadata)\n",
    "\n",
    "        splitter = MarkdownTextSplitter(chunk_size=800, chunk_overlap=200)\n",
    "        chunks = splitter.split_text(content)\n",
    "        outfile = os.path.join(JSONL_DIR, os.path.splitext(file)[0].split(os.sep)[-1] + \".json\")\n",
    "        # print(\"outfile:\", outfile, type(outfile))\n",
    "\n",
    "        with open(outfile, \"w\", encoding=\"utf-8\") as out:\n",
    "            for i, chunk in enumerate(chunks):\n",
    "                chunk_metadata = metadata.copy()\n",
    "                chunk_metadata[\"chunk_index\"] = i\n",
    "                chunk_metadata[\"content\"] = chunk\n",
    "                # rich.print(chunk_metadata)\n",
    "                out.write(json.dumps(chunk_metadata, ensure_ascii=False) + \"\\n\")\n",
    "                # break\n",
    "    # break"
   ]
  },
  {
   "cell_type": "markdown",
   "id": "e7452fa8",
   "metadata": {},
   "source": [
    "# OpenAI Vector store"
   ]
  },
  {
   "cell_type": "code",
   "execution_count": 3,
   "id": "f7babe5e",
   "metadata": {},
   "outputs": [
    {
     "name": "stdout",
     "output_type": "stream",
     "text": [
      "Note: you may need to restart the kernel to use updated packages.\n"
     ]
    },
    {
     "name": "stderr",
     "output_type": "stream",
     "text": [
      "\n",
      "[notice] A new release of pip is available: 24.2 -> 25.1.1\n",
      "[notice] To update, run: python.exe -m pip install --upgrade pip\n"
     ]
    }
   ],
   "source": [
    "%pip install -q openai python-dotenv"
   ]
  },
  {
   "cell_type": "markdown",
   "id": "c9411696",
   "metadata": {},
   "source": [
    "## Create OpenAI Client"
   ]
  },
  {
   "cell_type": "code",
   "execution_count": 14,
   "id": "86899715",
   "metadata": {},
   "outputs": [],
   "source": [
    "from openai import OpenAI\n",
    "import os\n",
    "from dotenv import load_dotenv\n",
    "\n",
    "load_dotenv()\n",
    "client = OpenAI(api_key=os.environ.get(\"OPENAI_API_KEY\"))\n"
   ]
  },
  {
   "cell_type": "markdown",
   "id": "305fe0c0",
   "metadata": {},
   "source": [
    "## Create Vector Store"
   ]
  },
  {
   "cell_type": "code",
   "execution_count": 75,
   "id": "4732e816",
   "metadata": {},
   "outputs": [
    {
     "name": "stdout",
     "output_type": "stream",
     "text": [
      "VectorStore(id='vs_687a06cbcfb48191a6027bd29ba44c7f', created_at=1752827595, file_counts=FileCounts(cancelled=0, completed=0, failed=0, in_progress=0, total=0), last_active_at=1752827595, metadata={}, name='Support FAQ', object='vector_store', status='completed', usage_bytes=0, expires_after=None, expires_at=None)\n"
     ]
    }
   ],
   "source": [
    "vector_store = client.vector_stores.create(\n",
    "  name=\"Support FAQ\"\n",
    ")\n",
    "print(vector_store)"
   ]
  },
  {
   "cell_type": "code",
   "execution_count": 76,
   "id": "c45599e8",
   "metadata": {},
   "outputs": [],
   "source": [
    "vector_store_id = \"vs_687a06cbcfb48191a6027bd29ba44c7f\""
   ]
  },
  {
   "cell_type": "markdown",
   "id": "b3b3a1dc",
   "metadata": {},
   "source": [
    "## Check vector store storage"
   ]
  },
  {
   "cell_type": "code",
   "execution_count": 77,
   "id": "27fbf14d",
   "metadata": {},
   "outputs": [
    {
     "name": "stdout",
     "output_type": "stream",
     "text": [
      "SyncCursorPage[VectorStore](data=[VectorStore(id='vs_687a06cbcfb48191a6027bd29ba44c7f', created_at=1752827595, file_counts=FileCounts(cancelled=0, completed=0, failed=0, in_progress=0, total=0), last_active_at=1752827595, metadata={}, name='Support FAQ', object='vector_store', status='completed', usage_bytes=0, expires_after=None, expires_at=None)], has_more=False, object='list', first_id='vs_687a06cbcfb48191a6027bd29ba44c7f', last_id='vs_687a06cbcfb48191a6027bd29ba44c7f')\n"
     ]
    }
   ],
   "source": [
    "vector_stores = client.vector_stores.list()\n",
    "print(vector_stores)"
   ]
  },
  {
   "cell_type": "markdown",
   "id": "b778a72c",
   "metadata": {},
   "source": [
    "## Upload files to vector store"
   ]
  },
  {
   "cell_type": "code",
   "execution_count": 90,
   "id": "c61e75d5",
   "metadata": {},
   "outputs": [],
   "source": [
    "files = get_files_in_directory(JSONL_DIR)\n",
    "file_streams = [open(file, \"rb\") for file in files[:40]]\n"
   ]
  },
  {
   "cell_type": "code",
   "execution_count": 91,
   "id": "a50ec43f",
   "metadata": {},
   "outputs": [
    {
     "name": "stdout",
     "output_type": "stream",
     "text": [
      "VectorStoreFileBatch(id='vsfb_2a638ea8fdc2457fa3a6d0cac4e11e85', created_at=1752827840, file_counts=FileCounts(cancelled=0, completed=40, failed=0, in_progress=0, total=40), object='vector_store.file_batch', status='completed', vector_store_id='vs_687a06cbcfb48191a6027bd29ba44c7f')\n"
     ]
    }
   ],
   "source": [
    "file_batch = client.vector_stores.file_batches.upload_and_poll(\n",
    "  vector_store_id=vector_store_id, files=file_streams\n",
    ")\n",
    "print(file_batch)"
   ]
  },
  {
   "cell_type": "markdown",
   "id": "48ab62ca",
   "metadata": {},
   "source": [
    "## Clear all files in vector store"
   ]
  },
  {
   "cell_type": "code",
   "execution_count": 35,
   "id": "6428ba2d",
   "metadata": {},
   "outputs": [
    {
     "name": "stdout",
     "output_type": "stream",
     "text": [
      "Vector store vs_68792514975881919f957c135a4e5233 deleted.\n"
     ]
    }
   ],
   "source": [
    "# Clear the whole vector store\n",
    "client.vector_stores.delete(vector_store_id=vector_store_id)\n",
    "print(f\"Vector store {vector_store_id} deleted.\")"
   ]
  },
  {
   "cell_type": "markdown",
   "id": "0e40fb0d",
   "metadata": {},
   "source": [
    "## Example retrieval"
   ]
  },
  {
   "cell_type": "code",
   "execution_count": 95,
   "id": "aeeddb9d",
   "metadata": {},
   "outputs": [],
   "source": [
    "response = client.vector_stores.search(\n",
    "    vector_store_id=vector_store_id,\n",
    "    query=\"youtube\",\n",
    "    max_num_results=5\n",
    ")"
   ]
  },
  {
   "cell_type": "code",
   "execution_count": 100,
   "id": "2a07a71a",
   "metadata": {},
   "outputs": [
    {
     "data": {
      "text/html": [
       "<pre style=\"white-space:pre;overflow-x:auto;line-height:normal;font-family:Menlo,'DejaVu Sans Mono',consolas,'Courier New',monospace\"><span style=\"color: #800080; text-decoration-color: #800080; font-weight: bold\">VectorStoreSearchResponse</span><span style=\"font-weight: bold\">(</span>\n",
       "    <span style=\"color: #808000; text-decoration-color: #808000\">attributes</span>=<span style=\"font-weight: bold\">{}</span>,\n",
       "    <span style=\"color: #808000; text-decoration-color: #808000\">content</span>=<span style=\"font-weight: bold\">[</span>\n",
       "        <span style=\"color: #800080; text-decoration-color: #800080; font-weight: bold\">Content</span><span style=\"font-weight: bold\">(</span>\n",
       "            <span style=\"color: #808000; text-decoration-color: #808000\">text</span>=<span style=\"color: #008000; text-decoration-color: #008000\">'{\"file_name\": \"1500002131621_How_to_use_YouTube_Live_with_OptiSigns.md\", \"file_path\": </span>\n",
       "<span style=\"color: #008000; text-decoration-color: #008000\">\"articles_md\\\\\\\\1500002131621_How_to_use_YouTube_Live_with_OptiSigns.md\", \"chunk_index\": 0, \"content\": \"# How to </span>\n",
       "<span style=\"color: #008000; text-decoration-color: #008000\">use YouTube Live with OptiSigns\\\\n\\\\nThere are 2 ways to use YouTube Live with OptiSigns.\\\\n\\\\n1) Use a YouTube </span>\n",
       "<span style=\"color: #008000; text-decoration-color: #008000\">link that\\'s already live, just like any other YouTube video link, once the live event is over, YouTube will </span>\n",
       "<span style=\"color: #008000; text-decoration-color: #008000\">automatically convert it to a normal video link and you still can use it normally.\\\\n\\\\nIn this case, you can just </span>\n",
       "<span style=\"color: #008000; text-decoration-color: #008000\">copy the YouTube link and use it in our [YouTube </span>\n",
       "<span style=\"color: #008000; text-decoration-color: #008000\">app](https://support.optisigns.com/hc/en-us/articles/360051014713).\\\\n\\\\n2) You want to schedule a live </span>\n",
       "<span style=\"color: #008000; text-decoration-color: #008000\">event.\\\\n\\\\nAn example scenario:\"}\\r\\n{\"file_name\": \"1500002131621_How_to_use_YouTube_Live_with_OptiSigns.md\", </span>\n",
       "<span style=\"color: #008000; text-decoration-color: #008000\">\"file_path\": \"articles_md\\\\\\\\1500002131621_How_to_use_YouTube_Live_with_OptiSigns.md\", \"chunk_index\": 1, \"content\":</span>\n",
       "<span style=\"color: #008000; text-decoration-color: #008000\">\"2) You want to schedule a live event.\\\\n\\\\nAn example scenario:\\\\n\\\\nA church is broadcasting their Sunday 9AM </span>\n",
       "<span style=\"color: #008000; text-decoration-color: #008000\">session on YouTube Live, the church also have overflow rooms in case the main hall is filled, in the overflow </span>\n",
       "<span style=\"color: #008000; text-decoration-color: #008000\">rooms, there\\'s already TV, screens for signage &amp; presentation. You can use OptiSigns YouTube Live schedule feature</span>\n",
       "<span style=\"color: #008000; text-decoration-color: #008000\">to schedule the live session to go on the TVs in overflow rooms every Sunday 9AM automatically.\\\\n\\\\nIn this case, </span>\n",
       "<span style=\"color: #008000; text-decoration-color: #008000\">you should use our [YouTube Live Schedule </span>\n",
       "<span style=\"color: #008000; text-decoration-color: #008000\">app](https://support.optisigns.com/hc/en-us/articles/360060284174)\\\\n\\\\nIf you have any additional questions, </span>\n",
       "<span style=\"color: #008000; text-decoration-color: #008000\">concerns or any feedback about OptiSigns, feel free to reach out to our support team </span>\n",
       "<span style=\"color: #008000; text-decoration-color: #008000\">at\\xa0[support@optisigns.com](mailto:support@optisigns.com)\"}'</span>,\n",
       "            <span style=\"color: #808000; text-decoration-color: #808000\">type</span>=<span style=\"color: #008000; text-decoration-color: #008000\">'text'</span>\n",
       "        <span style=\"font-weight: bold\">)</span>\n",
       "    <span style=\"font-weight: bold\">]</span>,\n",
       "    <span style=\"color: #808000; text-decoration-color: #808000\">file_id</span>=<span style=\"color: #008000; text-decoration-color: #008000\">'file-Q9RWsmh1Xdp3B3SQNV3GSD'</span>,\n",
       "    <span style=\"color: #808000; text-decoration-color: #808000\">filename</span>=<span style=\"color: #008000; text-decoration-color: #008000\">'1500002131621_How_to_use_YouTube_Live_with_OptiSigns.json'</span>,\n",
       "    <span style=\"color: #808000; text-decoration-color: #808000\">score</span>=<span style=\"color: #008080; text-decoration-color: #008080; font-weight: bold\">0.8680166471857144</span>\n",
       "<span style=\"font-weight: bold\">)</span>\n",
       "</pre>\n"
      ],
      "text/plain": [
       "\u001b[1;35mVectorStoreSearchResponse\u001b[0m\u001b[1m(\u001b[0m\n",
       "    \u001b[33mattributes\u001b[0m=\u001b[1m{\u001b[0m\u001b[1m}\u001b[0m,\n",
       "    \u001b[33mcontent\u001b[0m=\u001b[1m[\u001b[0m\n",
       "        \u001b[1;35mContent\u001b[0m\u001b[1m(\u001b[0m\n",
       "            \u001b[33mtext\u001b[0m=\u001b[32m'\u001b[0m\u001b[32m{\u001b[0m\u001b[32m\"file_name\": \"1500002131621_How_to_use_YouTube_Live_with_OptiSigns.md\", \"file_path\": \u001b[0m\n",
       "\u001b[32m\"articles_md\\\\\\\\1500002131621_How_to_use_YouTube_Live_with_OptiSigns.md\", \"chunk_index\": 0, \"content\": \"# How to \u001b[0m\n",
       "\u001b[32muse YouTube Live with OptiSigns\\\\n\\\\nThere are 2 ways to use YouTube Live with OptiSigns.\\\\n\\\\n1\u001b[0m\u001b[32m)\u001b[0m\u001b[32m Use a YouTube \u001b[0m\n",
       "\u001b[32mlink that\\'s already live, just like any other YouTube video link, once the live event is over, YouTube will \u001b[0m\n",
       "\u001b[32mautomatically convert it to a normal video link and you still can use it normally.\\\\n\\\\nIn this case, you can just \u001b[0m\n",
       "\u001b[32mcopy the YouTube link and use it in our \u001b[0m\u001b[32m[\u001b[0m\u001b[32mYouTube \u001b[0m\n",
       "\u001b[32mapp\u001b[0m\u001b[32m]\u001b[0m\u001b[32m(\u001b[0m\u001b[32mhttps://support.optisigns.com/hc/en-us/articles/360051014713\u001b[0m\u001b[32m)\u001b[0m\u001b[32m.\\\\n\\\\n2\u001b[0m\u001b[32m)\u001b[0m\u001b[32m You want to schedule a live \u001b[0m\n",
       "\u001b[32mevent.\\\\n\\\\nAn example scenario:\"\u001b[0m\u001b[32m}\u001b[0m\u001b[32m\\r\\n\u001b[0m\u001b[32m{\u001b[0m\u001b[32m\"file_name\": \"1500002131621_How_to_use_YouTube_Live_with_OptiSigns.md\", \u001b[0m\n",
       "\u001b[32m\"file_path\": \"articles_md\\\\\\\\1500002131621_How_to_use_YouTube_Live_with_OptiSigns.md\", \"chunk_index\": 1, \"content\":\u001b[0m\n",
       "\u001b[32m\"2\u001b[0m\u001b[32m)\u001b[0m\u001b[32m You want to schedule a live event.\\\\n\\\\nAn example scenario:\\\\n\\\\nA church is broadcasting their Sunday 9AM \u001b[0m\n",
       "\u001b[32msession on YouTube Live, the church also have overflow rooms in case the main hall is filled, in the overflow \u001b[0m\n",
       "\u001b[32mrooms, there\\'s already TV, screens for signage & presentation. You can use OptiSigns YouTube Live schedule feature\u001b[0m\n",
       "\u001b[32mto schedule the live session to go on the TVs in overflow rooms every Sunday 9AM automatically.\\\\n\\\\nIn this case, \u001b[0m\n",
       "\u001b[32myou should use our \u001b[0m\u001b[32m[\u001b[0m\u001b[32mYouTube Live Schedule \u001b[0m\n",
       "\u001b[32mapp\u001b[0m\u001b[32m]\u001b[0m\u001b[32m(\u001b[0m\u001b[32mhttps://support.optisigns.com/hc/en-us/articles/360060284174\u001b[0m\u001b[32m)\u001b[0m\u001b[32m\\\\n\\\\nIf you have any additional questions, \u001b[0m\n",
       "\u001b[32mconcerns or any feedback about OptiSigns, feel free to reach out to our support team \u001b[0m\n",
       "\u001b[32mat\\xa0\u001b[0m\u001b[32m[\u001b[0m\u001b[32msupport@optisigns.com\u001b[0m\u001b[32m]\u001b[0m\u001b[32m(\u001b[0m\u001b[32mmailto:support@optisigns.com\u001b[0m\u001b[32m)\u001b[0m\u001b[32m\"\u001b[0m\u001b[32m}\u001b[0m\u001b[32m'\u001b[0m,\n",
       "            \u001b[33mtype\u001b[0m=\u001b[32m'text'\u001b[0m\n",
       "        \u001b[1m)\u001b[0m\n",
       "    \u001b[1m]\u001b[0m,\n",
       "    \u001b[33mfile_id\u001b[0m=\u001b[32m'file-Q9RWsmh1Xdp3B3SQNV3GSD'\u001b[0m,\n",
       "    \u001b[33mfilename\u001b[0m=\u001b[32m'1500002131621_How_to_use_YouTube_Live_with_OptiSigns.json'\u001b[0m,\n",
       "    \u001b[33mscore\u001b[0m=\u001b[1;36m0\u001b[0m\u001b[1;36m.8680166471857144\u001b[0m\n",
       "\u001b[1m)\u001b[0m\n"
      ]
     },
     "metadata": {},
     "output_type": "display_data"
    }
   ],
   "source": [
    "rich.print(response.data[0])"
   ]
  },
  {
   "cell_type": "markdown",
   "id": "4426ed0f",
   "metadata": {},
   "source": [
    "# Check for new updates"
   ]
  },
  {
   "cell_type": "markdown",
   "id": "348ddf0f",
   "metadata": {},
   "source": [
    "## Connect to Supabase PostgreSQL"
   ]
  },
  {
   "cell_type": "code",
   "execution_count": 101,
   "id": "f7b2ceff",
   "metadata": {},
   "outputs": [],
   "source": [
    "import os\n",
    "from supabase import create_client, Client\n",
    "from dotenv import load_dotenv\n",
    "\n",
    "load_dotenv()\n",
    "\n",
    "url: str = os.environ.get(\"SUPABASE_URL\")\n",
    "key: str = os.environ.get(\"SUPABASE_KEY\")\n",
    "supabase: Client = create_client(url, key)"
   ]
  },
  {
   "cell_type": "code",
   "execution_count": 108,
   "id": "54418904",
   "metadata": {},
   "outputs": [
    {
     "data": {
      "text/plain": [
       "['13f23053968bba6523f356dce43f77f1b409532884a20aa5a07496f277910a74',\n",
       " '1ef6c17b104a131995e13899dd7744e6ab2275aa1dee814a8363536a9fe9e4c2',\n",
       " '367d3125be88ef0e570b0d4ae2931fe6d027ff3c5afffd9328d69051d4c3f879',\n",
       " 'ccfb05ec0bd31fd0dc1ac32a46d8597a34a9d63b77a99952dd26912b67f793b4']"
      ]
     },
     "execution_count": 108,
     "metadata": {},
     "output_type": "execute_result"
    }
   ],
   "source": [
    "import hashlib\n",
    "\n",
    "def get_hash_from_files(file_paths):\n",
    "    sha256_hash = hashlib.sha256()\n",
    "    hashes = []\n",
    "    \n",
    "    for file_path in file_paths:\n",
    "        with open(file_path, \"rb\") as f:\n",
    "            for byte_block in iter(lambda: f.read(4096), b\"\"):\n",
    "                sha256_hash.update(byte_block)\n",
    "        hashes.append(sha256_hash.hexdigest())\n",
    "        \n",
    "    return hashes\n",
    "\n",
    "get_hash_from_files([os.path.join(JSONL_DIR, file) for file in os.listdir(JSONL_DIR) if file.endswith(\".json\")][:4])"
   ]
  },
  {
   "cell_type": "code",
   "execution_count": 113,
   "id": "2de42c44",
   "metadata": {},
   "outputs": [
    {
     "data": {
      "text/plain": [
       "['bc19de...', '098y7gyefstvhjidwa0e9hubhd']"
      ]
     },
     "execution_count": 113,
     "metadata": {},
     "output_type": "execute_result"
    }
   ],
   "source": [
    "response = (\n",
    "    supabase.table(\"scraped_articles\")\n",
    "    .select(\"hash\")\n",
    "    .execute()\n",
    ")\n",
    "old_hashes = [item['hash'] for item in response.data]\n",
    "old_hashes"
   ]
  },
  {
   "cell_type": "code",
   "execution_count": 121,
   "id": "948603cb",
   "metadata": {},
   "outputs": [],
   "source": [
    "from datetime import datetime, timezone\n",
    "\n",
    "new_files = get_files_in_directory(JSONL_DIR)\n",
    "new_hashes = get_hash_from_files(new_files)\n",
    "\n",
    "delta_files = [\n",
    "    {\"id\": file.split(os.sep)[-1], \"hash\": hash_value, \"updated_at\": datetime.now(timezone.utc).isoformat()}\n",
    "    for file, hash_value in zip(new_files, new_hashes)\n",
    "    if hash_value not in old_hashes\n",
    "]"
   ]
  },
  {
   "cell_type": "code",
   "execution_count": 124,
   "id": "57110dbc",
   "metadata": {},
   "outputs": [
    {
     "data": {
      "text/plain": [
       "[{'id': '10159088954387_How_to_put_Live_TV_on_your_screens_with_OptiSigns.json',\n",
       "  'hash': '13f23053968bba6523f356dce43f77f1b409532884a20aa5a07496f277910a74',\n",
       "  'updated_at': '2025-07-18T09:35:26.987686+00:00'},\n",
       " {'id': '10259143299219_How_to_use_Website_Screenshot_app.json',\n",
       "  'hash': '1ef6c17b104a131995e13899dd7744e6ab2275aa1dee814a8363536a9fe9e4c2',\n",
       "  'updated_at': '2025-07-18T09:35:26.987706+00:00'},\n",
       " {'id': '10517038025363_How_to_Customize_Branding_and_Fonts_in_the_OptiSigns_Designer_Brand_Kit.json',\n",
       "  'hash': '367d3125be88ef0e570b0d4ae2931fe6d027ff3c5afffd9328d69051d4c3f879',\n",
       "  'updated_at': '2025-07-18T09:35:26.987714+00:00'},\n",
       " {'id': '11032964830227_How_to_use_Monday_com_App.json',\n",
       "  'hash': 'ccfb05ec0bd31fd0dc1ac32a46d8597a34a9d63b77a99952dd26912b67f793b4',\n",
       "  'updated_at': '2025-07-18T09:35:26.987719+00:00'}]"
      ]
     },
     "execution_count": 124,
     "metadata": {},
     "output_type": "execute_result"
    }
   ],
   "source": [
    "delta_files[:4]"
   ]
  },
  {
   "cell_type": "code",
   "execution_count": 115,
   "id": "41e5c528",
   "metadata": {},
   "outputs": [
    {
     "name": "stdout",
     "output_type": "stream",
     "text": [
      "2025-07-18T09:32:59.130523+00:00\n"
     ]
    }
   ],
   "source": [
    "from datetime import datetime, timezone\n",
    "\n",
    "now_utc = datetime.now(timezone.utc).isoformat()\n",
    "print(now_utc)\n"
   ]
  }
 ],
 "metadata": {
  "kernelspec": {
   "display_name": "venv",
   "language": "python",
   "name": "python3"
  },
  "language_info": {
   "codemirror_mode": {
    "name": "ipython",
    "version": 3
   },
   "file_extension": ".py",
   "mimetype": "text/x-python",
   "name": "python",
   "nbconvert_exporter": "python",
   "pygments_lexer": "ipython3",
   "version": "3.13.0"
  }
 },
 "nbformat": 4,
 "nbformat_minor": 5
}
