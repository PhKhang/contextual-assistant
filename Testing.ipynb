{
 "cells": [
  {
   "cell_type": "code",
   "execution_count": 4,
   "id": "2ae3ba10",
   "metadata": {},
   "outputs": [
    {
     "name": "stdout",
     "output_type": "stream",
     "text": [
      "Note: you may need to restart the kernel to use updated packages.\n"
     ]
    },
    {
     "name": "stderr",
     "output_type": "stream",
     "text": [
      "\n",
      "[notice] A new release of pip is available: 24.2 -> 25.1.1\n",
      "[notice] To update, run: python.exe -m pip install --upgrade pip\n"
     ]
    }
   ],
   "source": [
    "%pip install -q requests markdownify"
   ]
  },
  {
   "cell_type": "markdown",
   "id": "0862f5c6",
   "metadata": {},
   "source": [
    "| Area                                | Points |\n",
    "| ----------------------------------- | ------ |\n",
    "| Scrape & clean quality              | 25     |\n",
    "| API-based vector-store upload works | 20     |\n",
    "| Daily job deployment & logs         | 15     |\n",
    "| Code clarity + README               | 10     |\n",
    "| Bonus (tests, improvements)         | +5     |\n"
   ]
  },
  {
   "cell_type": "code",
   "execution_count": null,
   "id": "0fe82114",
   "metadata": {},
   "outputs": [],
   "source": [
    "import requests\n",
    "from markdownify import markdownify as md\n",
    "import os\n",
    "from urllib.parse import urlparse\n",
    "\n",
    "BASE_URL = \"https://support.optisigns.com/api/v2/help_center/articles.json\"\n",
    "OUTPUT_DIR = \"articles_md\"\n",
    "\n",
    "os.makedirs(OUTPUT_DIR, exist_ok=True)\n",
    "\n",
    "def slugify(url):\n",
    "    parsed = urlparse(url)\n",
    "    slug = parsed.path.rstrip('/').split('/')[-1]\n",
    "    return slug.replace('-', '_')\n",
    "\n",
    "def fetch_articles():\n",
    "    articles = []\n",
    "    url = BASE_URL\n",
    "    while url:\n",
    "        resp = requests.get(url)\n",
    "        data = resp.json()\n",
    "        articles.extend(data.get(\"articles\", []))\n",
    "        url = data.get(\"next_page\")  # pagination\n",
    "    return articles\n",
    "\n",
    "def save_article_as_md(article):\n",
    "    html_content = article.get(\"body\", \"\")\n",
    "    markdown_content = md(html_content)\n",
    "\n",
    "    slug = slugify(article.get(\"html_url\", f\"article_{article['id']}\"))\n",
    "    filename = os.path.join(OUTPUT_DIR, f\"{slug}.md\")\n",
    "    with open(filename, \"w\", encoding=\"utf-8\") as f:\n",
    "        f.write(f\"# {article.get('title')}\\n\\n\")\n",
    "        f.write(markdown_content)\n",
    "\n",
    "def main():\n",
    "    print(\"Fetching articles...\")\n",
    "    articles = fetch_articles()\n",
    "    print(f\"Total articles fetched: {len(articles)}\")\n",
    "\n",
    "    for article in articles:\n",
    "        save_article_as_md(article)\n",
    "\n",
    "    print(f\"Saved all Markdown files in '{OUTPUT_DIR}' folder.\")\n",
    "\n"
   ]
  },
  {
   "cell_type": "code",
   "execution_count": null,
   "id": "54a46bea",
   "metadata": {},
   "outputs": [
    {
     "name": "stdout",
     "output_type": "stream",
     "text": [
      "Fetching articles...\n",
      "Total articles fetched: 400\n",
      "Saved all Markdown files in 'articles_md' folder.\n"
     ]
    }
   ],
   "source": [
    "main()\n"
   ]
  },
  {
   "cell_type": "markdown",
   "id": "1b06af79",
   "metadata": {},
   "source": []
  },
  {
   "cell_type": "code",
   "execution_count": 5,
   "id": "c8fe908b",
   "metadata": {},
   "outputs": [
    {
     "name": "stdout",
     "output_type": "stream",
     "text": [
      "Note: you may need to restart the kernel to use updated packages.\n"
     ]
    },
    {
     "name": "stderr",
     "output_type": "stream",
     "text": [
      "\n",
      "[notice] A new release of pip is available: 24.2 -> 25.1.1\n",
      "[notice] To update, run: python.exe -m pip install --upgrade pip\n"
     ]
    }
   ],
   "source": [
    "%pip install -q openai python-dotenv"
   ]
  },
  {
   "cell_type": "code",
   "execution_count": 2,
   "id": "fae492f6",
   "metadata": {},
   "outputs": [],
   "source": [
    "from openai import OpenAI\n",
    "import os\n",
    "from dotenv import load_dotenv\n",
    "\n",
    "load_dotenv()\n",
    "client = OpenAI(api_key=os.environ.get(\"OPENAI_API_KEY\"))\n"
   ]
  },
  {
   "cell_type": "code",
   "execution_count": 8,
   "id": "8624b89b",
   "metadata": {},
   "outputs": [
    {
     "name": "stdout",
     "output_type": "stream",
     "text": [
      "VectorStore(id='vs_68792514975881919f957c135a4e5233', created_at=1752769812, file_counts=FileCounts(cancelled=0, completed=0, failed=0, in_progress=0, total=0), last_active_at=1752769812, metadata={}, name='Support FAQ', object='vector_store', status='completed', usage_bytes=0, expires_after=None, expires_at=None)\n"
     ]
    }
   ],
   "source": [
    "\n",
    "vector_store = client.vector_stores.create(\n",
    "  name=\"Support FAQ\"\n",
    ")\n",
    "print(vector_store)\n"
   ]
  },
  {
   "cell_type": "code",
   "execution_count": 50,
   "id": "31c331fa",
   "metadata": {},
   "outputs": [
    {
     "name": "stdout",
     "output_type": "stream",
     "text": [
      "SyncCursorPage[VectorStore](data=[VectorStore(id='vs_68792514975881919f957c135a4e5233', created_at=1752769812, file_counts=FileCounts(cancelled=0, completed=39, failed=0, in_progress=0, total=39), last_active_at=1752824213, metadata={}, name='Support FAQ', object='vector_store', status='completed', usage_bytes=215673, expires_after=None, expires_at=None)], has_more=False, object='list', first_id='vs_68792514975881919f957c135a4e5233', last_id='vs_68792514975881919f957c135a4e5233')\n"
     ]
    }
   ],
   "source": [
    "vector_stores = client.vector_stores.list()\n",
    "print(vector_stores)"
   ]
  },
  {
   "cell_type": "code",
   "execution_count": 4,
   "id": "ccf06240",
   "metadata": {},
   "outputs": [
    {
     "ename": "TypeError",
     "evalue": "'SyncCursorPage[VectorStoreFile]' object is not subscriptable",
     "output_type": "error",
     "traceback": [
      "\u001b[31m---------------------------------------------------------------------------\u001b[39m",
      "\u001b[31mTypeError\u001b[39m                                 Traceback (most recent call last)",
      "\u001b[36mCell\u001b[39m\u001b[36m \u001b[39m\u001b[32mIn[4]\u001b[39m\u001b[32m, line 4\u001b[39m\n\u001b[32m      1\u001b[39m vector_store_files = client.vector_stores.files.list(\n\u001b[32m      2\u001b[39m   vector_store_id=\u001b[33m\"\u001b[39m\u001b[33mvs_68792514975881919f957c135a4e5233\u001b[39m\u001b[33m\"\u001b[39m\n\u001b[32m      3\u001b[39m )\n\u001b[32m----> \u001b[39m\u001b[32m4\u001b[39m \u001b[38;5;28mprint\u001b[39m(\u001b[43mvector_store_files\u001b[49m\u001b[43m[\u001b[49m\u001b[32;43m0\u001b[39;49m\u001b[43m]\u001b[49m)\n",
      "\u001b[31mTypeError\u001b[39m: 'SyncCursorPage[VectorStoreFile]' object is not subscriptable"
     ]
    }
   ],
   "source": [
    "vector_store_files = client.vector_stores.files.list(\n",
    "  vector_store_id=\"vs_68792514975881919f957c135a4e5233\"\n",
    ")\n",
    "print(vector_store_files[0])"
   ]
  },
  {
   "cell_type": "code",
   "execution_count": 16,
   "id": "473e29ac",
   "metadata": {},
   "outputs": [],
   "source": [
    "# get all files in articales_md directory\n",
    "import os\n",
    "\n",
    "def get_files_in_directory(directory):\n",
    "    files = []\n",
    "    for filename in os.listdir(directory):\n",
    "        if filename.endswith(\".md\"):\n",
    "            files.append(os.path.join(directory, filename))\n",
    "    return files\n"
   ]
  },
  {
   "cell_type": "code",
   "execution_count": 22,
   "id": "a855e696",
   "metadata": {},
   "outputs": [],
   "source": [
    "files = get_files_in_directory(\"articles_md\")\n",
    "file_streams = [open(file, \"rb\") for file in files[:40]]"
   ]
  },
  {
   "cell_type": "code",
   "execution_count": 23,
   "id": "78fa4523",
   "metadata": {},
   "outputs": [],
   "source": [
    "file_batch = client.vector_stores.file_batches.upload_and_poll(\n",
    "  vector_store_id=\"vs_68792514975881919f957c135a4e5233\", files=file_streams\n",
    ")"
   ]
  },
  {
   "cell_type": "code",
   "execution_count": 25,
   "id": "5f0b8eda",
   "metadata": {},
   "outputs": [
    {
     "name": "stdout",
     "output_type": "stream",
     "text": [
      "VectorStoreFileBatch(id='vsfb_9d7fcf8392524d8996274ecf1e0e274f', created_at=1752770996, file_counts=FileCounts(cancelled=0, completed=40, failed=0, in_progress=0, total=40), object='vector_store.file_batch', status='completed', vector_store_id='vs_68792514975881919f957c135a4e5233')\n"
     ]
    }
   ],
   "source": [
    "print(file_batch)"
   ]
  },
  {
   "cell_type": "code",
   "execution_count": 31,
   "id": "77677678",
   "metadata": {},
   "outputs": [
    {
     "name": "stdout",
     "output_type": "stream",
     "text": [
      "{'data': [{'id': 'file-3GqxRzLak5wythBK9x27pC', 'created_at': 1752770993, 'last_error': None, 'object': 'vector_store.file', 'status': 'completed', 'usage_bytes': 3587, 'vector_store_id': 'vs_68792514975881919f957c135a4e5233', 'attributes': {}, 'chunking_strategy': {'static': {'chunk_overlap_tokens': 400, 'max_chunk_size_tokens': 800}, 'type': 'static'}}, {'id': 'file-JgGbkvytLj8eSujsigJcF8', 'created_at': 1752770993, 'last_error': None, 'object': 'vector_store.file', 'status': 'completed', 'usage_bytes': 5206, 'vector_store_id': 'vs_68792514975881919f957c135a4e5233', 'attributes': {}, 'chunking_strategy': {'static': {'chunk_overlap_tokens': 400, 'max_chunk_size_tokens': 800}, 'type': 'static'}}, {'id': 'file-RzpcknQw6cYRD4C7c4An4N', 'created_at': 1752770993, 'last_error': None, 'object': 'vector_store.file', 'status': 'completed', 'usage_bytes': 6101, 'vector_store_id': 'vs_68792514975881919f957c135a4e5233', 'attributes': {}, 'chunking_strategy': {'static': {'chunk_overlap_tokens': 400, 'max_chunk_size_tokens': 800}, 'type': 'static'}}, {'id': 'file-DxWswbhVthvubnaf9NsCgr', 'created_at': 1752770993, 'last_error': None, 'object': 'vector_store.file', 'status': 'completed', 'usage_bytes': 12294, 'vector_store_id': 'vs_68792514975881919f957c135a4e5233', 'attributes': {}, 'chunking_strategy': {'static': {'chunk_overlap_tokens': 400, 'max_chunk_size_tokens': 800}, 'type': 'static'}}, {'id': 'file-WrL1J93jFFv6K2CvNwfdQU', 'created_at': 1752770993, 'last_error': None, 'object': 'vector_store.file', 'status': 'completed', 'usage_bytes': 2104, 'vector_store_id': 'vs_68792514975881919f957c135a4e5233', 'attributes': {}, 'chunking_strategy': {'static': {'chunk_overlap_tokens': 400, 'max_chunk_size_tokens': 800}, 'type': 'static'}}, {'id': 'file-NAyy92sdYLVpxVAGiAJpc9', 'created_at': 1752770993, 'last_error': None, 'object': 'vector_store.file', 'status': 'completed', 'usage_bytes': 8867, 'vector_store_id': 'vs_68792514975881919f957c135a4e5233', 'attributes': {}, 'chunking_strategy': {'static': {'chunk_overlap_tokens': 400, 'max_chunk_size_tokens': 800}, 'type': 'static'}}, {'id': 'file-QUHq5eL1V9WcdNKXC7oGZU', 'created_at': 1752770993, 'last_error': None, 'object': 'vector_store.file', 'status': 'completed', 'usage_bytes': 11805, 'vector_store_id': 'vs_68792514975881919f957c135a4e5233', 'attributes': {}, 'chunking_strategy': {'static': {'chunk_overlap_tokens': 400, 'max_chunk_size_tokens': 800}, 'type': 'static'}}, {'id': 'file-THbMCVvhs6sSpS8oPuqtfB', 'created_at': 1752770993, 'last_error': None, 'object': 'vector_store.file', 'status': 'completed', 'usage_bytes': 3211, 'vector_store_id': 'vs_68792514975881919f957c135a4e5233', 'attributes': {}, 'chunking_strategy': {'static': {'chunk_overlap_tokens': 400, 'max_chunk_size_tokens': 800}, 'type': 'static'}}, {'id': 'file-FfDRWJ4kdBsMng7cgaVnMF', 'created_at': 1752770993, 'last_error': None, 'object': 'vector_store.file', 'status': 'completed', 'usage_bytes': 3074, 'vector_store_id': 'vs_68792514975881919f957c135a4e5233', 'attributes': {}, 'chunking_strategy': {'static': {'chunk_overlap_tokens': 400, 'max_chunk_size_tokens': 800}, 'type': 'static'}}, {'id': 'file-AnPV1xHX1Dt7nvyrkepWyU', 'created_at': 1752770993, 'last_error': None, 'object': 'vector_store.file', 'status': 'completed', 'usage_bytes': 3299, 'vector_store_id': 'vs_68792514975881919f957c135a4e5233', 'attributes': {}, 'chunking_strategy': {'static': {'chunk_overlap_tokens': 400, 'max_chunk_size_tokens': 800}, 'type': 'static'}}, {'id': 'file-WnE9ChB4d7JmVVBho6VDmM', 'created_at': 1752770993, 'last_error': None, 'object': 'vector_store.file', 'status': 'completed', 'usage_bytes': 4369, 'vector_store_id': 'vs_68792514975881919f957c135a4e5233', 'attributes': {}, 'chunking_strategy': {'static': {'chunk_overlap_tokens': 400, 'max_chunk_size_tokens': 800}, 'type': 'static'}}, {'id': 'file-MkBdFmTgmMgkem88eTgKYi', 'created_at': 1752770993, 'last_error': None, 'object': 'vector_store.file', 'status': 'completed', 'usage_bytes': 2082, 'vector_store_id': 'vs_68792514975881919f957c135a4e5233', 'attributes': {}, 'chunking_strategy': {'static': {'chunk_overlap_tokens': 400, 'max_chunk_size_tokens': 800}, 'type': 'static'}}, {'id': 'file-JSRTPzU9MqkxCGHoMYGgq8', 'created_at': 1752770993, 'last_error': None, 'object': 'vector_store.file', 'status': 'completed', 'usage_bytes': 9426, 'vector_store_id': 'vs_68792514975881919f957c135a4e5233', 'attributes': {}, 'chunking_strategy': {'static': {'chunk_overlap_tokens': 400, 'max_chunk_size_tokens': 800}, 'type': 'static'}}, {'id': 'file-W2wB6o4CntdqgwKp4X1or3', 'created_at': 1752770993, 'last_error': None, 'object': 'vector_store.file', 'status': 'completed', 'usage_bytes': 5929, 'vector_store_id': 'vs_68792514975881919f957c135a4e5233', 'attributes': {}, 'chunking_strategy': {'static': {'chunk_overlap_tokens': 400, 'max_chunk_size_tokens': 800}, 'type': 'static'}}, {'id': 'file-T9tpb5ycV68oQmNu8YWKGp', 'created_at': 1752770993, 'last_error': None, 'object': 'vector_store.file', 'status': 'completed', 'usage_bytes': 2102, 'vector_store_id': 'vs_68792514975881919f957c135a4e5233', 'attributes': {}, 'chunking_strategy': {'static': {'chunk_overlap_tokens': 400, 'max_chunk_size_tokens': 800}, 'type': 'static'}}, {'id': 'file-Q23Mhb9wqD8FzEkVJScSu6', 'created_at': 1752770993, 'last_error': None, 'object': 'vector_store.file', 'status': 'completed', 'usage_bytes': 6275, 'vector_store_id': 'vs_68792514975881919f957c135a4e5233', 'attributes': {}, 'chunking_strategy': {'static': {'chunk_overlap_tokens': 400, 'max_chunk_size_tokens': 800}, 'type': 'static'}}, {'id': 'file-HB8G1kEWd6MEMKapAwq6F2', 'created_at': 1752770993, 'last_error': None, 'object': 'vector_store.file', 'status': 'completed', 'usage_bytes': 2045, 'vector_store_id': 'vs_68792514975881919f957c135a4e5233', 'attributes': {}, 'chunking_strategy': {'static': {'chunk_overlap_tokens': 400, 'max_chunk_size_tokens': 800}, 'type': 'static'}}, {'id': 'file-GTR6GfcfPWuv48ZC1wb4MG', 'created_at': 1752770993, 'last_error': None, 'object': 'vector_store.file', 'status': 'completed', 'usage_bytes': 6107, 'vector_store_id': 'vs_68792514975881919f957c135a4e5233', 'attributes': {}, 'chunking_strategy': {'static': {'chunk_overlap_tokens': 400, 'max_chunk_size_tokens': 800}, 'type': 'static'}}, {'id': 'file-W4YEfx87GBHHPt1gHR5rpp', 'created_at': 1752770993, 'last_error': None, 'object': 'vector_store.file', 'status': 'completed', 'usage_bytes': 4103, 'vector_store_id': 'vs_68792514975881919f957c135a4e5233', 'attributes': {}, 'chunking_strategy': {'static': {'chunk_overlap_tokens': 400, 'max_chunk_size_tokens': 800}, 'type': 'static'}}, {'id': 'file-HMtKotrnbW8kvbUgQN2TAt', 'created_at': 1752770993, 'last_error': None, 'object': 'vector_store.file', 'status': 'completed', 'usage_bytes': 3016, 'vector_store_id': 'vs_68792514975881919f957c135a4e5233', 'attributes': {}, 'chunking_strategy': {'static': {'chunk_overlap_tokens': 400, 'max_chunk_size_tokens': 800}, 'type': 'static'}}], 'has_more': True, 'object': 'list', 'first_id': 'file-3GqxRzLak5wythBK9x27pC', 'last_id': 'file-HMtKotrnbW8kvbUgQN2TAt'}\n"
     ]
    }
   ],
   "source": [
    "print(vector_store_files.to_dict())"
   ]
  },
  {
   "cell_type": "code",
   "execution_count": 41,
   "id": "e74e9fc3",
   "metadata": {},
   "outputs": [],
   "source": [
    "response = client.vector_stores.search(\n",
    "    vector_store_id=\"vs_68792514975881919f957c135a4e5233\",\n",
    "    query=\"youtube\",\n",
    "    max_num_results=5\n",
    ")"
   ]
  },
  {
   "cell_type": "code",
   "execution_count": null,
   "id": "e5f5e3ff",
   "metadata": {},
   "outputs": [],
   "source": [
    "response.data[4].to_dict()"
   ]
  },
  {
   "cell_type": "code",
   "execution_count": null,
   "id": "9c1a81c2",
   "metadata": {},
   "outputs": [
    {
     "ename": "AttributeError",
     "evalue": "'VectorStores' object has no attribute 'embeddings'",
     "output_type": "error",
     "traceback": [
      "\u001b[31m---------------------------------------------------------------------------\u001b[39m",
      "\u001b[31mAttributeError\u001b[39m                            Traceback (most recent call last)",
      "\u001b[36mCell\u001b[39m\u001b[36m \u001b[39m\u001b[32mIn[24]\u001b[39m\u001b[32m, line 1\u001b[39m\n\u001b[32m----> \u001b[39m\u001b[32m1\u001b[39m items = \u001b[43mclient\u001b[49m\u001b[43m.\u001b[49m\u001b[43mvector_stores\u001b[49m\u001b[43m.\u001b[49m\u001b[43membeddings\u001b[49m.list(vector_store_id=vector_store.id)\n\u001b[32m      2\u001b[39m \u001b[38;5;28mprint\u001b[39m(\u001b[38;5;28mlen\u001b[39m(items.data))\n",
      "\u001b[31mAttributeError\u001b[39m: 'VectorStores' object has no attribute 'embeddings'"
     ]
    }
   ],
   "source": []
  },
  {
   "cell_type": "code",
   "execution_count": 33,
   "id": "cb6a3056",
   "metadata": {},
   "outputs": [
    {
     "name": "stdout",
     "output_type": "stream",
     "text": [
      "Note: you may need to restart the kernel to use updated packages.\n"
     ]
    },
    {
     "name": "stderr",
     "output_type": "stream",
     "text": [
      "\n",
      "[notice] A new release of pip is available: 24.2 -> 25.1.1\n",
      "[notice] To update, run: python.exe -m pip install --upgrade pip\n"
     ]
    }
   ],
   "source": [
    "%pip install -q supabase"
   ]
  },
  {
   "cell_type": "code",
   "execution_count": 34,
   "id": "0a19275d",
   "metadata": {},
   "outputs": [],
   "source": [
    "import os\n",
    "from supabase import create_client, Client\n",
    "from dotenv import load_dotenv\n",
    "\n",
    "load_dotenv()\n",
    "\n",
    "url: str = os.environ.get(\"SUPABASE_URL\")\n",
    "key: str = os.environ.get(\"SUPABASE_KEY\")\n",
    "supabase: Client = create_client(url, key)"
   ]
  },
  {
   "cell_type": "code",
   "execution_count": 39,
   "id": "52e9ef87",
   "metadata": {},
   "outputs": [],
   "source": [
    "response = (\n",
    "    supabase.table(\"scraped_articles\")\n",
    "    .upsert({\"id\": 1, \"updated_at\": \"2024-06-29T09:20:00Z\", \"hash\": \"bc19de...\"})\n",
    "    .execute()\n",
    ")"
   ]
  },
  {
   "cell_type": "code",
   "execution_count": 45,
   "id": "5681837b",
   "metadata": {},
   "outputs": [],
   "source": [
    "import json\n",
    "import hashlib\n",
    "\n",
    "def hash(data):\n",
    "    data_json = json.dumps(data, sort_keys=True)\n",
    "    hash_digest = hashlib.sha256(data_json.encode(\"utf-8\")).hexdigest()\n",
    "    \n",
    "    return hash_digest\n"
   ]
  },
  {
   "cell_type": "code",
   "execution_count": 49,
   "id": "57593011",
   "metadata": {},
   "outputs": [
    {
     "data": {
      "text/plain": [
       "VectorStoreFileDeleted(id='file-6m1cFquGdJhUaWz212Qod1', deleted=True, object='vector_store.file.deleted')"
      ]
     },
     "execution_count": 49,
     "metadata": {},
     "output_type": "execute_result"
    }
   ],
   "source": [
    "client.vector_stores.files.delete(\n",
    "    vector_store_id=\"vs_68792514975881919f957c135a4e5233\",\n",
    "    file_id=\"file-6m1cFquGdJhUaWz212Qod1\"\n",
    ")"
   ]
  }
 ],
 "metadata": {
  "kernelspec": {
   "display_name": "venv",
   "language": "python",
   "name": "python3"
  },
  "language_info": {
   "codemirror_mode": {
    "name": "ipython",
    "version": 3
   },
   "file_extension": ".py",
   "mimetype": "text/x-python",
   "name": "python",
   "nbconvert_exporter": "python",
   "pygments_lexer": "ipython3",
   "version": "3.13.0"
  }
 },
 "nbformat": 4,
 "nbformat_minor": 5
}
