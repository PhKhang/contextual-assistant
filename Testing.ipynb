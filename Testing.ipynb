{
 "cells": [
  {
   "cell_type": "code",
   "execution_count": null,
   "id": "2ae3ba10",
   "metadata": {},
   "outputs": [],
   "source": [
    "%pip install -q "
   ]
  },
  {
   "cell_type": "markdown",
   "id": "0862f5c6",
   "metadata": {},
   "source": [
    "| Area                                | Points |\n",
    "| ----------------------------------- | ------ |\n",
    "| Scrape & clean quality              | 25     |\n",
    "| API-based vector-store upload works | 20     |\n",
    "| Daily job deployment & logs         | 15     |\n",
    "| Code clarity + README               | 10     |\n",
    "| Bonus (tests, improvements)         | +5     |\n"
   ]
  }
 ],
 "metadata": {
  "kernelspec": {
   "display_name": "venv",
   "language": "python",
   "name": "python3"
  },
  "language_info": {
   "name": "python",
   "version": "3.13.0"
  }
 },
 "nbformat": 4,
 "nbformat_minor": 5
}
